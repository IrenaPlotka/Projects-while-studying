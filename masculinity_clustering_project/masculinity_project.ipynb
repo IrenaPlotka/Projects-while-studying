{
 "cells": [
  {
   "cell_type": "markdown",
   "metadata": {},
   "source": [
    "### Masculinity Project\n",
    "\n",
    "In this project, we will be investigating the way people think about masculinity by applying the KMeans algorithm to data from [FiveThirtyEight](https://fivethirtyeight.com/). FiveThirtyEight is a popular website known for their use of statistical analysis in many of their stories.\n",
    "\n",
    "The full list of questions can be seen at `masculinity-survey.pdf`. FiveThirtyEight and WNYC studios used this survey to get their male readers' thoughts on masculinity. After looking through some of the questions asked in the pdf, we might want to take a look at FiveThirtyEight's article [What Do Men Think It Means To Be A Man? ](https://fivethirtyeight.com/features/what-do-men-think-it-means-to-be-a-man/) to see their major takeaways. We're going to try to find more insights using machine learning.\n",
    "The file `masculinity.csv` contains the raw responses to the masculinity survey."
   ]
  },
  {
   "cell_type": "code",
   "execution_count": null,
   "metadata": {},
   "outputs": [],
   "source": [
    "import pandas as pd\n",
    "\n",
    "# getting a sense of how the data is structured\n",
    "survey = pd.read_csv('https://raw.githubusercontent.com/IrenaPlotka/codecademy_projects/master/masculinity_clustering_project/masculinity.csv')\n",
    "print(survey.head())"
   ]
  },
  {
   "cell_type": "code",
   "execution_count": 2,
   "metadata": {},
   "outputs": [
    {
     "name": "stdout",
     "output_type": "stream",
     "text": [
      "Index(['Unnamed: 0', 'StartDate', 'EndDate', 'q0001', 'q0002', 'q0004_0001',\n",
      "       'q0004_0002', 'q0004_0003', 'q0004_0004', 'q0004_0005', 'q0004_0006',\n",
      "       'q0005', 'q0007_0001', 'q0007_0002', 'q0007_0003', 'q0007_0004',\n",
      "       'q0007_0005', 'q0007_0006', 'q0007_0007', 'q0007_0008', 'q0007_0009',\n",
      "       'q0007_0010', 'q0007_0011', 'q0008_0001', 'q0008_0002', 'q0008_0003',\n",
      "       'q0008_0004', 'q0008_0005', 'q0008_0006', 'q0008_0007', 'q0008_0008',\n",
      "       'q0008_0009', 'q0008_0010', 'q0008_0011', 'q0008_0012', 'q0009',\n",
      "       'q0010_0001', 'q0010_0002', 'q0010_0003', 'q0010_0004', 'q0010_0005',\n",
      "       'q0010_0006', 'q0010_0007', 'q0010_0008', 'q0011_0001', 'q0011_0002',\n",
      "       'q0011_0003', 'q0011_0004', 'q0011_0005', 'q0012_0001', 'q0012_0002',\n",
      "       'q0012_0003', 'q0012_0004', 'q0012_0005', 'q0012_0006', 'q0012_0007',\n",
      "       'q0013', 'q0014', 'q0015', 'q0017', 'q0018', 'q0019_0001', 'q0019_0002',\n",
      "       'q0019_0003', 'q0019_0004', 'q0019_0005', 'q0019_0006', 'q0019_0007',\n",
      "       'q0020_0001', 'q0020_0002', 'q0020_0003', 'q0020_0004', 'q0020_0005',\n",
      "       'q0020_0006', 'q0021_0001', 'q0021_0002', 'q0021_0003', 'q0021_0004',\n",
      "       'q0022', 'q0024', 'q0025_0001', 'q0025_0002', 'q0025_0003', 'q0026',\n",
      "       'q0028', 'q0029', 'q0030', 'q0034', 'q0035', 'q0036', 'race2',\n",
      "       'racethn4', 'educ3', 'educ4', 'age3', 'kids', 'orientation', 'weight'],\n",
      "      dtype='object')\n"
     ]
    }
   ],
   "source": [
    "print(survey.columns)"
   ]
  },
  {
   "cell_type": "code",
   "execution_count": 3,
   "metadata": {},
   "outputs": [
    {
     "name": "stdout",
     "output_type": "stream",
     "text": [
      "1189\n"
     ]
    }
   ],
   "source": [
    "print(len(survey))"
   ]
  },
  {
   "cell_type": "code",
   "execution_count": 4,
   "metadata": {},
   "outputs": [
    {
     "name": "stdout",
     "output_type": "stream",
     "text": [
      "Sometimes                    537\n",
      "Rarely                       324\n",
      "Often                        142\n",
      "Never, but open to it        123\n",
      "Never, and not open to it     53\n",
      "No answer                     10\n",
      "Name: q0007_0001, dtype: int64\n"
     ]
    }
   ],
   "source": [
    "# how many people said they often ask a friend for professional advice (question 7 subquestion 1)\n",
    "print(survey['q0007_0001'].value_counts())"
   ]
  },
  {
   "cell_type": "markdown",
   "metadata": {},
   "source": [
    "In order to use KMeans algorithm with the data, we need to first turn the responses into numerical data. We can't cluster the data using the phrases \"Often\" or \"Rarely\", but we can turn those phrases into numbers. For example, we could map the data in the following way:\n",
    "\n",
    "- \"Often\" -> 4\n",
    "- \"Sometimes\" -> 3\n",
    "- \"Rarely\" -> 2\n",
    "- \"Never, but open to it\" -> 1\n",
    "- \"Never, and not open to it\" -> 0."
   ]
  },
  {
   "cell_type": "code",
   "execution_count": 5,
   "metadata": {},
   "outputs": [],
   "source": [
    "# the list of columns that have to be transformed into numderical data\n",
    "cols_to_map = [\"q0007_0001\", \"q0007_0002\", \"q0007_0003\", \"q0007_0004\",\n",
    "       \"q0007_0005\", \"q0007_0006\", \"q0007_0007\", \"q0007_0008\", \"q0007_0009\",\n",
    "       \"q0007_0010\", \"q0007_0011\"]\n",
    "for col in cols_to_map:\n",
    "    survey[col] = survey[col].map({\"Often\":4, \"Sometimes\":3, \"Rarely\":2, \"Never, but open to it\":1, \"Never, and not open to it\":0})"
   ]
  },
  {
   "cell_type": "code",
   "execution_count": 7,
   "metadata": {},
   "outputs": [
    {
     "name": "stdout",
     "output_type": "stream",
     "text": [
      "3.0    537\n",
      "2.0    324\n",
      "4.0    142\n",
      "1.0    123\n",
      "0.0     53\n",
      "Name: q0007_0001, dtype: int64\n"
     ]
    }
   ],
   "source": [
    "# checking the results of the mapping\n",
    "print(survey['q0007_0001'].value_counts())"
   ]
  },
  {
   "cell_type": "code",
   "execution_count": 12,
   "metadata": {},
   "outputs": [
    {
     "data": {
      "image/png": "[encoded data removed]",
      "text/plain": [
       "<Figure size 432x288 with 1 Axes>"
      ]
     },
     "metadata": {
      "needs_background": "light"
     },
     "output_type": "display_data"
    }
   ],
   "source": [
    "# plotting the data\n",
    "from matplotlib import pyplot as plt\n",
    "\n",
    "plt.scatter(survey[\"q0007_0001\"], survey[\"q0007_0002\"], alpha = 0.5)\n",
    "plt.xlabel(\"Ask a friend for professional advice\")\n",
    "plt.ylabel(\"Ask a friend for personal advice\")\n",
    "plt.show()"
   ]
  },
  {
   "cell_type": "markdown",
   "metadata": {},
   "source": [
    "The plot shows that among the men who don't ask a friend for a professional advice, there are no men who often ask a friend for a personal advice. But, on the contrary, some men who never ask for a personal advice, often ask a friend for a  professional advice. "
   ]
  },
  {
   "cell_type": "markdown",
   "metadata": {},
   "source": [
    "### KMeans Model "
   ]
  },
  {
   "cell_type": "markdown",
   "metadata": {},
   "source": [
    "Now it's time to start clustering. Let's take a look at the first four sub-questions in question 7. Those four activities aren't necessarily seen as traditionally masculine. On the other hand, sub-questions 5, 8, and 9 are often seen as very masculine activities. What would happen if we found 2 clusters based on those 7 questions? Would we find clusters that represent traditionally feminine and traditionally masculine people? Let's find out."
   ]
  },
  {
   "cell_type": "code",
   "execution_count": 14,
   "metadata": {},
   "outputs": [
    {
     "name": "stdout",
     "output_type": "stream",
     "text": [
      "[[1.87798408 1.84350133 0.84615385 1.72413793 0.56763926 2.63660477\n",
      "  1.97612732]\n",
      " [2.84425036 2.81513828 2.84133916 2.39883552 0.69577875 3.0713246\n",
      "  2.89665211]]\n"
     ]
    }
   ],
   "source": [
    "from sklearn.cluster import KMeans\n",
    "\n",
    "# getting rid of NaN values in the columns we are interested in\n",
    "rows_to_cluster = survey.dropna(subset=['q0007_0001', 'q0007_0002', 'q0007_0003', 'q0007_0004', 'q0007_0005', 'q0007_0008', 'q0007_0009'])\n",
    "\n",
    "classifier = KMeans(n_clusters = 2)\n",
    "classifier.fit(rows_to_cluster[['q0007_0001', 'q0007_0002', 'q0007_0003', 'q0007_0004', 'q0007_0005', 'q0007_0008', 'q0007_0009']])\n",
    "print(classifier.cluster_centers_)"
   ]
  },
  {
   "cell_type": "markdown",
   "metadata": {},
   "source": [
    "When we look at the two clusters, the first four numbers represent the traditionally feminine activities and the last three represent the traditionally masculine activities. If the data points separated into a feminine cluser and a masculine cluseter, we would expect to see one cluster to have high values for the first four numbers and the other cluster to have high values for the last three numbers.\n",
    "\n",
    "Instead, the first cluster has a higher value in every feature. Since a higher number means the person was more likely to \"often\" do something, the clusters seem to represent \"people who do things\" and \"people who don't do things\".\n",
    "\n",
    "We might be able to find out more information about these clusters by looking at the specific members of each cluster."
   ]
  },
  {
   "cell_type": "code",
   "execution_count": 15,
   "metadata": {},
   "outputs": [
    {
     "name": "stdout",
     "output_type": "stream",
     "text": [
      "[1 0 1 ... 0 0 0]\n"
     ]
    }
   ],
   "source": [
    "# printing out the list of labels, showing which cluster every row in the DataFrame corresponds to\n",
    "print(classifier.labels_)"
   ]
  },
  {
   "cell_type": "code",
   "execution_count": 18,
   "metadata": {},
   "outputs": [
    {
     "name": "stdout",
     "output_type": "stream",
     "text": [
      "[1, 4, 6, 7, 9, 10, 12, 14, 17, 18, 19, 24, 29, 35, 39, 42, 49, 51, 52, 53, 54, 55, 57, 58, 62, 63, 65, 66, 75, 78, 79, 82, 84, 86, 87, 88, 89, 90, 92, 94, 95, 97, 98, 101, 106, 107, 109, 113, 116, 117, 119, 123, 128, 129, 130, 131, 132, 134, 139, 142, 143, 154, 172, 175, 176, 178, 179, 180, 181, 184, 187, 189, 195, 196, 198, 199, 201, 209, 212, 222, 229, 230, 231, 233, 236, 237, 240, 241, 247, 248, 249, 250, 256, 260, 261, 263, 264, 272, 275, 281, 283, 284, 286, 288, 291, 296, 297, 299, 300, 301, 305, 310, 311, 325, 328, 331, 336, 337, 340, 341, 343, 347, 350, 351, 353, 361, 367, 369, 377, 378, 390, 391, 392, 393, 394, 396, 397, 398, 399, 409, 410, 411, 412, 415, 417, 418, 419, 425, 428, 429, 432, 449, 454, 455, 457, 459, 461, 463, 468, 470, 471, 476, 477, 478, 484, 489, 490, 493, 494, 496, 498, 499, 502, 508, 509, 510, 515, 516, 521, 523, 525, 526, 529, 531, 533, 542, 546, 549, 555, 556, 559, 560, 562, 563, 564, 566, 567, 570, 577, 579, 580, 585, 588, 589, 592, 593, 599, 603, 610, 616, 617, 619, 620, 622, 625, 626, 629, 631, 634, 636, 637, 638, 639, 649, 651, 654, 655, 656, 659, 662, 669, 677, 681, 683, 685, 686, 687, 691, 692, 696, 697, 702, 710, 718, 719, 720, 721, 722, 723, 726, 728, 730, 736, 738, 741, 744, 745, 748, 749, 750, 751, 758, 759, 762, 766, 768, 769, 772, 775, 776, 777, 778, 782, 783, 787, 788, 789, 790, 792, 794, 795, 797, 799, 800, 801, 803, 805, 810, 814, 821, 826, 827, 831, 837, 839, 843, 848, 849, 853, 856, 858, 860, 868, 871, 872, 874, 875, 879, 880, 882, 883, 884, 886, 892, 894, 895, 896, 897, 898, 900, 901, 902, 904, 911, 914, 918, 919, 922, 923, 924, 929, 932, 936, 939, 943, 948, 954, 958, 961, 962, 963, 967, 968, 970, 971, 974, 978, 982, 985, 987, 989, 991, 993, 998, 1000, 1003, 1007, 1011, 1013, 1014, 1016, 1025, 1036, 1037, 1038, 1039, 1042, 1045, 1046, 1048, 1050, 1054, 1055, 1057, 1061, 1062, 1063]\n"
     ]
    }
   ],
   "source": [
    "# separate the cluster members\n",
    "cluster_zero_indices = []\n",
    "cluster_one_indices = []\n",
    "\n",
    "for i in range(len(classifier.labels_)):\n",
    "    if classifier.labels_[i] == 0:\n",
    "        cluster_zero_indices.append(i)\n",
    "    elif classifier.labels_[i] == 1:\n",
    "        cluster_one_indices.append(i)\n",
    "print(cluster_zero_indices)"
   ]
  },
  {
   "cell_type": "code",
   "execution_count": 22,
   "metadata": {},
   "outputs": [
    {
     "name": "stdout",
     "output_type": "stream",
     "text": [
      "Some college            0.312997\n",
      "College or more         0.286472\n",
      "Post graduate degree    0.251989\n",
      "High school or less     0.145889\n",
      "Name: educ4, dtype: float64\n",
      "\n",
      "Post graduate degree    0.365357\n",
      "College or more         0.330422\n",
      "Some college            0.231441\n",
      "High school or less     0.072780\n",
      "Name: educ4, dtype: float64\n",
      "\n",
      "65 and up    0.503979\n",
      "35 - 64      0.432361\n",
      "18 - 34      0.061008\n",
      "Name: age3, dtype: float64\n",
      "\n",
      "35 - 64      0.478894\n",
      "65 and up    0.454148\n",
      "18 - 34      0.066958\n",
      "Name: age3, dtype: float64\n"
     ]
    }
   ],
   "source": [
    "# investigating the cluster members\n",
    "\n",
    "cluster_zero_df = rows_to_cluster.iloc[cluster_zero_indices]\n",
    "cluster_one_df = rows_to_cluster.iloc[cluster_one_indices]\n",
    "\n",
    "print(cluster_zero_df['educ4'].value_counts()/len(cluster_zero_df))\n",
    "print()\n",
    "print(cluster_one_df['educ4'].value_counts()/len(cluster_one_df))\n",
    "print()\n",
    "print(cluster_zero_df['age3'].value_counts()/len(cluster_zero_df))\n",
    "print()\n",
    "print(cluster_one_df['age3'].value_counts()/len(cluster_one_df))"
   ]
  },
  {
   "cell_type": "markdown",
   "metadata": {},
   "source": [
    "After investigating the data, we've found out that by answering those 7 questions people don't fall into a \"masculine\" category or a \"feminine\" category. Instead, they seem to be divided by their level of education.\n",
    "So, it's reasonable to explore other survey questions and answers. We can try to look at different beliefs and actions and find out if they are correlated to falling into a \"masculine\" or \"feminine\" category.\n",
    "The new set of questions to try clustering on are 1, 2, 17 and 18."
   ]
  },
  {
   "cell_type": "code",
   "execution_count": 24,
   "metadata": {},
   "outputs": [
    {
     "name": "stdout",
     "output_type": "stream",
     "text": [
      "Somewhat masculine      617\n",
      "Very masculine          443\n",
      "Not very masculine       97\n",
      "Not at all masculine     21\n",
      "No answer                11\n",
      "Name: q0001, dtype: int64\n",
      "Somewhat important      465\n",
      "Not too important       401\n",
      "Not at all important    180\n",
      "Very important          138\n",
      "No answer                 5\n",
      "Name: q0002, dtype: int64\n",
      "Yes          739\n",
      "No           423\n",
      "No answer     27\n",
      "Name: q0017, dtype: int64\n",
      "Always       597\n",
      "Often        328\n",
      "Sometimes    155\n",
      "Never         54\n",
      "No answer     36\n",
      "Rarely        19\n",
      "Name: q0018, dtype: int64\n"
     ]
    }
   ],
   "source": [
    "print(survey['q0001'].value_counts())\n",
    "print(survey['q0002'].value_counts())\n",
    "print(survey['q0017'].value_counts())\n",
    "print(survey['q0018'].value_counts())"
   ]
  },
  {
   "cell_type": "code",
   "execution_count": 25,
   "metadata": {},
   "outputs": [
    {
     "name": "stdout",
     "output_type": "stream",
     "text": [
      "2.0    617\n",
      "3.0    443\n",
      "1.0     97\n",
      "0.0     21\n",
      "Name: q0001, dtype: int64\n",
      "2.0    465\n",
      "1.0    401\n",
      "0.0    180\n",
      "3.0    138\n",
      "Name: q0002, dtype: int64\n",
      "1.0    739\n",
      "0.0    423\n",
      "Name: q0017, dtype: int64\n",
      "4.0    597\n",
      "3.0    328\n",
      "2.0    155\n",
      "0.0     54\n",
      "1.0     19\n",
      "Name: q0018, dtype: int64\n"
     ]
    }
   ],
   "source": [
    "# transfering the data into numerical\n",
    "survey['q0001'] = survey['q0001'].map({\"Very masculine\":3, \"Somewhat masculine\":2, \"Not very masculine\":1, \"Not at all masculine\":0})\n",
    "survey['q0002'] = survey['q0002'].map({\"Very important\":3, \"Somewhat important\":2, \"Not too important\":1, \"Not at all important\":0})\n",
    "survey['q0017'] = survey['q0017'].map({\"Yes\":1, \"No\":0})\n",
    "survey['q0018'] = survey['q0018'].map({\"Always\":4, \"Often\":3, \"Sometimes\":2, \"Rarely\":1, \"Never\":0})\n",
    "print(survey['q0001'].value_counts())\n",
    "print(survey['q0002'].value_counts())\n",
    "print(survey['q0017'].value_counts())\n",
    "print(survey['q0018'].value_counts())"
   ]
  },
  {
   "cell_type": "code",
   "execution_count": 28,
   "metadata": {},
   "outputs": [
    {
     "name": "stdout",
     "output_type": "stream",
     "text": [
      "[[2.31277533 1.53854626 0.70044053 3.64757709]\n",
      " [2.03097345 1.2920354  0.38938053 1.44690265]]\n"
     ]
    }
   ],
   "source": [
    "# getting rid of NaN values\n",
    "new_set = survey.dropna(subset = ['q0001', 'q0002', 'q0017', 'q0018'])\n",
    "\n",
    "classifier2 = KMeans(n_clusters = 2)\n",
    "classifier2.fit(new_set[['q0001', 'q0002', 'q0017', 'q0018']])\n",
    "print(classifier2.cluster_centers_)"
   ]
  },
  {
   "cell_type": "markdown",
   "metadata": {},
   "source": [
    "When we look at the cluster centers we expect to see low values in one cluster and high values in another cluster. Instead of that we observe that the model's  cluster values differ only for the 17th and the 18th questions. This could mean that a person's beliefs are not strong indicators of being \"masculine\" or \"feminine\", but actions, like being an initiator in relationships or paying cheque at a date, can be considered as such."
   ]
  }
 ],
 "metadata": {
  "kernelspec": {
   "display_name": "Python 3",
   "language": "python",
   "name": "python3"
  },
  "language_info": {
   "codemirror_mode": {
    "name": "ipython",
    "version": 3
   },
   "file_extension": ".py",
   "mimetype": "text/x-python",
   "name": "python",
   "nbconvert_exporter": "python",
   "pygments_lexer": "ipython3",
   "version": "3.7.4"
  }
 },
 "nbformat": 4,
 "nbformat_minor": 2
}
