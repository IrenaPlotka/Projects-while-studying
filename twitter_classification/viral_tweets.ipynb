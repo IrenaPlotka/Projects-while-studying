{
 "cells": [
  {
   "cell_type": "markdown",
   "metadata": {},
   "source": [
    "## Viral Tweets\n",
    "The aim of the project is to predict whether a tweet will go viral using the K-Nearest Neighbor algorithm."
   ]
  },
  {
   "cell_type": "code",
   "execution_count": 1,
   "metadata": {},
   "outputs": [],
   "source": [
    "import pandas as pd\n",
    "# downloading tweets dataset in a data frame\n",
    "tweets = pd.read_json(r'C:\\Users\\iplot\\Desktop\\codecademy_projects\\twitter_classification\\random_tweets.json', lines = True)"
   ]
  },
  {
   "cell_type": "code",
   "execution_count": 6,
   "metadata": {},
   "outputs": [
    {
     "name": "stdout",
     "output_type": "stream",
     "text": [
      "Index(['created_at', 'id', 'id_str', 'text', 'truncated', 'entities',\n",
      "       'metadata', 'source', 'in_reply_to_status_id',\n",
      "       'in_reply_to_status_id_str', 'in_reply_to_user_id',\n",
      "       'in_reply_to_user_id_str', 'in_reply_to_screen_name', 'user', 'geo',\n",
      "       'coordinates', 'place', 'contributors', 'retweeted_status',\n",
      "       'is_quote_status', 'retweet_count', 'favorite_count', 'favorited',\n",
      "       'retweeted', 'lang', 'possibly_sensitive', 'quoted_status_id',\n",
      "       'quoted_status_id_str', 'extended_entities', 'quoted_status',\n",
      "       'withheld_in_countries'],\n",
      "      dtype='object')\n",
      "                 created_at                   id               id_str  \\\n",
      "0 2018-07-31 13:34:40+00:00  1024287229525598210  1024287229525598208   \n",
      "1 2018-07-31 13:34:40+00:00  1024287229512953856  1024287229512953856   \n",
      "\n",
      "                                                text  truncated  \\\n",
      "0  RT @KWWLStormTrack7: We are more than a month ...      False   \n",
      "1  @hail_ee23 Thanks love its just the feeling of...      False   \n",
      "\n",
      "                                            entities  \\\n",
      "0  {'hashtags': [], 'symbols': [], 'user_mentions...   \n",
      "1  {'hashtags': [], 'symbols': [], 'user_mentions...   \n",
      "\n",
      "                                            metadata  \\\n",
      "0  {'iso_language_code': 'en', 'result_type': 're...   \n",
      "1  {'iso_language_code': 'en', 'result_type': 're...   \n",
      "\n",
      "                                              source  in_reply_to_status_id  \\\n",
      "0  <a href=\"http://twitter.com/download/android\" ...                    NaN   \n",
      "1  <a href=\"http://twitter.com/download/iphone\" r...           1.024128e+18   \n",
      "\n",
      "   in_reply_to_status_id_str  in_reply_to_user_id  in_reply_to_user_id_str  \\\n",
      "0                        NaN                  NaN                      NaN   \n",
      "1               1.024128e+18         9.271857e+17             9.271857e+17   \n",
      "\n",
      "  in_reply_to_screen_name                                               user  \\\n",
      "0                    None  {'id': 145388018, 'id_str': '145388018', 'name...   \n",
      "1               hail_ee23  {'id': 2407992339, 'id_str': '2407992339', 'na...   \n",
      "\n",
      "    geo coordinates                                              place  \\\n",
      "0  None        None                                               None   \n",
      "1  None        None  {'id': '26b41b13d49ea2bf', 'url': 'https://api...   \n",
      "\n",
      "   contributors                                   retweeted_status  \\\n",
      "0           NaN  {'created_at': 'Mon Jul 30 16:49:41 +0000 2018...   \n",
      "1           NaN                                                NaN   \n",
      "\n",
      "   is_quote_status  retweet_count  favorite_count  favorited  retweeted lang  \\\n",
      "0            False              3               0      False      False   en   \n",
      "1            False              0               0      False      False   en   \n",
      "\n",
      "   possibly_sensitive  quoted_status_id  quoted_status_id_str  \\\n",
      "0                 NaN               NaN                   NaN   \n",
      "1                 NaN               NaN                   NaN   \n",
      "\n",
      "  extended_entities quoted_status withheld_in_countries  \n",
      "0               NaN           NaN                   NaN  \n",
      "1               NaN           NaN                   NaN  \n"
     ]
    }
   ],
   "source": [
    "# examining the data\n",
    "# print(tweets.info())\n",
    "pd.set_option('display.max_columns', None)\n",
    "print(tweets.columns)\n",
    "print(tweets.head(2))"
   ]
  },
  {
   "cell_type": "code",
   "execution_count": 5,
   "metadata": {},
   "outputs": [
    {
     "name": "stdout",
     "output_type": "stream",
     "text": [
      "{'id': 145388018, 'id_str': '145388018', 'name': 'Derek Wolkenhauer', 'screen_name': 'derekw221', 'location': 'Waterloo, Iowa', 'description': '', 'url': None, 'entities': {'description': {'urls': []}}, 'protected': False, 'followers_count': 215, 'friends_count': 335, 'listed_count': 2, 'created_at': 'Tue May 18 21:30:10 +0000 2010', 'favourites_count': 3419, 'utc_offset': None, 'time_zone': None, 'geo_enabled': True, 'verified': False, 'statuses_count': 4475, 'lang': 'en', 'contributors_enabled': False, 'is_translator': False, 'is_translation_enabled': False, 'profile_background_color': '022330', 'profile_background_image_url': 'http://abs.twimg.com/images/themes/theme15/bg.png', 'profile_background_image_url_https': 'https://abs.twimg.com/images/themes/theme15/bg.png', 'profile_background_tile': False, 'profile_image_url': 'http://pbs.twimg.com/profile_images/995790590276243456/cgxRVviN_normal.jpg', 'profile_image_url_https': 'https://pbs.twimg.com/profile_images/995790590276243456/cgxRVviN_normal.jpg', 'profile_banner_url': 'https://pbs.twimg.com/profile_banners/145388018/1494937921', 'profile_link_color': '0084B4', 'profile_sidebar_border_color': 'A8C7F7', 'profile_sidebar_fill_color': 'C0DFEC', 'profile_text_color': '333333', 'profile_use_background_image': True, 'has_extended_profile': True, 'default_profile': False, 'default_profile_image': False, 'following': False, 'follow_request_sent': False, 'notifications': False, 'translator_type': 'none'}\n"
     ]
    }
   ],
   "source": [
    "print(tweets.loc[0]['user'])"
   ]
  },
  {
   "cell_type": "code",
   "execution_count": 7,
   "metadata": {},
   "outputs": [
    {
     "name": "stdout",
     "output_type": "stream",
     "text": [
      "RT @KWWLStormTrack7: We are more than a month into summer but the days are getting shorter. The sunrise is about 25 minutes later on July 3…\n"
     ]
    }
   ],
   "source": [
    "print(tweets.loc[0]['text'])"
   ]
  },
  {
   "cell_type": "markdown",
   "metadata": {},
   "source": [
    "To determine whether a tweet was viral or not we can use the 'retweet_count' column. If we find the median value for retweets, we can devide all the tweets in two categories (or label them): 1 - viral (the number of retweets is more than the median) and, otherwise, 0 - not viral."
   ]
  },
  {
   "cell_type": "code",
   "execution_count": 8,
   "metadata": {},
   "outputs": [
    {
     "name": "stdout",
     "output_type": "stream",
     "text": [
      "13.0\n"
     ]
    }
   ],
   "source": [
    "import numpy as np\n",
    "\n",
    "med_num_retweet = tweets['retweet_count'].median()\n",
    "print(med_num_retweet)"
   ]
  },
  {
   "cell_type": "code",
   "execution_count": 10,
   "metadata": {},
   "outputs": [
    {
     "name": "stdout",
     "output_type": "stream",
     "text": [
      "0    5562\n",
      "1    5537\n",
      "Name: is_viral, dtype: int64\n"
     ]
    }
   ],
   "source": [
    "tweets['is_viral'] = np.where(tweets['retweet_count'] > med_num_retweet, 1, 0)\n",
    "# checking out the number of tweets that went viral\n",
    "print(tweets['is_viral'].value_counts())"
   ]
  },
  {
   "cell_type": "markdown",
   "metadata": {},
   "source": [
    "Now that the tweets were labeled, it's time to find out which features determine whether a tweet is viral. These might be:\n",
    "\n",
    "- The number of friends.\n",
    "- The number of followers.\n",
    "- The length of a tweet.\n",
    "- The number of hashtags in the tweet. \n",
    "- The number of links in the tweet.\n",
    "\n",
    "To represent these features we can create new columns in the dataset."
   ]
  },
  {
   "cell_type": "code",
   "execution_count": 48,
   "metadata": {},
   "outputs": [],
   "source": [
    "tweets['tweet_length'] = tweets.apply(lambda tweet: len(tweet['text']), axis=1)\n",
    "tweets['friends_count'] = tweets.apply(lambda tweet: tweet['user']['friends_count'], axis=1)\n",
    "tweets['followers_count'] = tweets.apply(lambda tweet: tweet['user']['followers_count'], axis=1)\n",
    "tweets['hashtags_count'] = tweets.apply(lambda tweet: tweet['text'].count('#'), axis=1)\n",
    "tweets['links_count'] = tweets.apply(lambda tweet: tweet['text'].count('http'), axis=1)"
   ]
  },
  {
   "cell_type": "code",
   "execution_count": 49,
   "metadata": {},
   "outputs": [],
   "source": [
    "# prepearing data for K-Nearest Neighbor algorithm\n",
    "labels = tweets['is_viral']\n",
    "data = tweets[['tweet_length', 'friends_count', 'followers_count', 'hashtags_count', 'links_count']]"
   ]
  },
  {
   "cell_type": "code",
   "execution_count": 50,
   "metadata": {},
   "outputs": [
    {
     "name": "stdout",
     "output_type": "stream",
     "text": [
      "[[ 0.6164054  -0.14483305 -0.02878298 -0.32045057 -0.78415588]\n",
      " [-1.64577622 -0.16209787 -0.02886246 -0.32045057 -0.78415588]\n",
      " [ 0.6164054  -0.11566596 -0.02887736 -0.32045057 -0.78415588]\n",
      " [ 0.6164054   0.1085151  -0.01339342 -0.32045057 -0.78415588]\n",
      " [ 0.6164054  -0.15294228 -0.02923006 -0.32045057 -0.78415588]\n",
      " [ 0.58049776 -0.1237752  -0.02921516 -0.32045057 -0.78415588]]\n"
     ]
    }
   ],
   "source": [
    "# normalizing the data so that all of the features vary within the same range\n",
    "from sklearn.preprocessing import scale\n",
    "scaled_data = scale(data, axis = 0)\n",
    "# getting a sense of how the new scaled data looks like\n",
    "print(scaled_data[:6])"
   ]
  },
  {
   "cell_type": "code",
   "execution_count": 51,
   "metadata": {},
   "outputs": [],
   "source": [
    "# splitting the data into train and test sets\n",
    "from sklearn.model_selection import train_test_split\n",
    "\n",
    "train_data, test_data, train_labels, test_labels = train_test_split(scaled_data, labels, test_size = 0.2, random_state = 1)"
   ]
  },
  {
   "cell_type": "code",
   "execution_count": 57,
   "metadata": {},
   "outputs": [
    {
     "name": "stdout",
     "output_type": "stream",
     "text": [
      "0.7360360360360361\n"
     ]
    }
   ],
   "source": [
    "# creating a KNeighborsClassifier object\n",
    "from sklearn.neighbors import KNeighborsClassifier\n",
    "\n",
    "classifier = KNeighborsClassifier(n_neighbors = 22)\n",
    "classifier.fit(train_data, train_labels)\n",
    "print(classifier.score(test_data, test_labels))"
   ]
  },
  {
   "cell_type": "code",
   "execution_count": 53,
   "metadata": {},
   "outputs": [
    {
     "data": {
      "image/png": "[encoded data removed]",
      "text/plain": [
       "<Figure size 432x288 with 1 Axes>"
      ]
     },
     "metadata": {
      "needs_background": "light"
     },
     "output_type": "display_data"
    }
   ],
   "source": [
    "# testing whether another k value fits in better with the algorithm\n",
    "scores = []\n",
    "for k in range(1, 101):\n",
    "    classifier = KNeighborsClassifier(n_neighbors = k)\n",
    "    classifier.fit(train_data, train_labels)\n",
    "    scores.append(classifier.score(test_data, test_labels))\n",
    "\n",
    "# plotting the results\n",
    "import matplotlib.pyplot as plt\n",
    "plt.plot(range(1, 101), scores)\n",
    "plt.xlabel('k-value')\n",
    "plt.ylabel('Accuracy Score')\n",
    "plt.show()"
   ]
  },
  {
   "cell_type": "markdown",
   "metadata": {},
   "source": [
    "The plot shows that with k-value equal to 22 the K-Nearest Neighbor algorithm can predict whether a tweet will go viral with the accuracy score 0.74."
   ]
  }
 ],
 "metadata": {
  "kernelspec": {
   "display_name": "Python 3",
   "language": "python",
   "name": "python3"
  },
  "language_info": {
   "codemirror_mode": {
    "name": "ipython",
    "version": 3
   },
   "file_extension": ".py",
   "mimetype": "text/x-python",
   "name": "python",
   "nbconvert_exporter": "python",
   "pygments_lexer": "ipython3",
   "version": "3.7.4"
  }
 },
 "nbformat": 4,
 "nbformat_minor": 2
}
